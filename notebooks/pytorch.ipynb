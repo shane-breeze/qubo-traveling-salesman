{
 "cells": [
  {
   "cell_type": "code",
   "execution_count": 2,
   "metadata": {},
   "outputs": [
    {
     "name": "stdout",
     "output_type": "stream",
     "text": [
      "Requirement already satisfied: tqdm in /home/shane/miniconda2/envs/torch38/lib/python3.8/site-packages (4.46.0)\n",
      "Requirement already satisfied: numpy in /home/shane/miniconda2/envs/torch38/lib/python3.8/site-packages (1.18.1)\n",
      "Requirement already satisfied: matplotlib in /home/shane/miniconda2/envs/torch38/lib/python3.8/site-packages (3.2.1)\n",
      "Requirement already satisfied: scipy in /home/shane/miniconda2/envs/torch38/lib/python3.8/site-packages (1.4.1)\n",
      "Requirement already satisfied: torch in /home/shane/miniconda2/envs/torch38/lib/python3.8/site-packages (1.5.0)\n",
      "Requirement already satisfied: tensorboard in /home/shane/miniconda2/envs/torch38/lib/python3.8/site-packages (2.2.2)\n",
      "Requirement already satisfied: tensorboardx in /home/shane/miniconda2/envs/torch38/lib/python3.8/site-packages (2.0)\n",
      "Requirement already satisfied: kiwisolver>=1.0.1 in /home/shane/miniconda2/envs/torch38/lib/python3.8/site-packages (from matplotlib) (1.2.0)\n",
      "Requirement already satisfied: cycler>=0.10 in /home/shane/miniconda2/envs/torch38/lib/python3.8/site-packages (from matplotlib) (0.10.0)\n",
      "Requirement already satisfied: pyparsing!=2.0.4,!=2.1.2,!=2.1.6,>=2.0.1 in /home/shane/miniconda2/envs/torch38/lib/python3.8/site-packages (from matplotlib) (2.4.7)\n",
      "Requirement already satisfied: python-dateutil>=2.1 in /home/shane/miniconda2/envs/torch38/lib/python3.8/site-packages (from matplotlib) (2.8.1)\n",
      "Requirement already satisfied: future in /home/shane/miniconda2/envs/torch38/lib/python3.8/site-packages (from torch) (0.18.2)\n",
      "Requirement already satisfied: protobuf>=3.6.0 in /home/shane/miniconda2/envs/torch38/lib/python3.8/site-packages (from tensorboard) (3.12.2)\n",
      "Requirement already satisfied: grpcio>=1.24.3 in /home/shane/miniconda2/envs/torch38/lib/python3.8/site-packages (from tensorboard) (1.29.0)\n",
      "Requirement already satisfied: requests<3,>=2.21.0 in /home/shane/miniconda2/envs/torch38/lib/python3.8/site-packages (from tensorboard) (2.23.0)\n",
      "Requirement already satisfied: six>=1.10.0 in /home/shane/miniconda2/envs/torch38/lib/python3.8/site-packages (from tensorboard) (1.14.0)\n",
      "Requirement already satisfied: wheel>=0.26; python_version >= \"3\" in /home/shane/miniconda2/envs/torch38/lib/python3.8/site-packages (from tensorboard) (0.34.2)\n",
      "Requirement already satisfied: absl-py>=0.4 in /home/shane/miniconda2/envs/torch38/lib/python3.8/site-packages (from tensorboard) (0.9.0)\n",
      "Requirement already satisfied: google-auth<2,>=1.6.3 in /home/shane/miniconda2/envs/torch38/lib/python3.8/site-packages (from tensorboard) (1.18.0)\n",
      "Requirement already satisfied: markdown>=2.6.8 in /home/shane/miniconda2/envs/torch38/lib/python3.8/site-packages (from tensorboard) (3.2.2)\n",
      "Requirement already satisfied: google-auth-oauthlib<0.5,>=0.4.1 in /home/shane/miniconda2/envs/torch38/lib/python3.8/site-packages (from tensorboard) (0.4.1)\n",
      "Requirement already satisfied: setuptools>=41.0.0 in /home/shane/miniconda2/envs/torch38/lib/python3.8/site-packages (from tensorboard) (46.1.3.post20200330)\n",
      "Requirement already satisfied: werkzeug>=0.11.15 in /home/shane/miniconda2/envs/torch38/lib/python3.8/site-packages (from tensorboard) (1.0.1)\n",
      "Requirement already satisfied: tensorboard-plugin-wit>=1.6.0 in /home/shane/miniconda2/envs/torch38/lib/python3.8/site-packages (from tensorboard) (1.6.0.post3)\n",
      "Requirement already satisfied: idna<3,>=2.5 in /home/shane/miniconda2/envs/torch38/lib/python3.8/site-packages (from requests<3,>=2.21.0->tensorboard) (2.9)\n",
      "Requirement already satisfied: certifi>=2017.4.17 in /home/shane/miniconda2/envs/torch38/lib/python3.8/site-packages (from requests<3,>=2.21.0->tensorboard) (2020.4.5.1)\n",
      "Requirement already satisfied: chardet<4,>=3.0.2 in /home/shane/miniconda2/envs/torch38/lib/python3.8/site-packages (from requests<3,>=2.21.0->tensorboard) (3.0.4)\n",
      "Requirement already satisfied: urllib3!=1.25.0,!=1.25.1,<1.26,>=1.21.1 in /home/shane/miniconda2/envs/torch38/lib/python3.8/site-packages (from requests<3,>=2.21.0->tensorboard) (1.25.9)\n",
      "Requirement already satisfied: pyasn1-modules>=0.2.1 in /home/shane/miniconda2/envs/torch38/lib/python3.8/site-packages (from google-auth<2,>=1.6.3->tensorboard) (0.2.8)\n",
      "Requirement already satisfied: rsa<5,>=3.1.4; python_version >= \"3\" in /home/shane/miniconda2/envs/torch38/lib/python3.8/site-packages (from google-auth<2,>=1.6.3->tensorboard) (4.6)\n",
      "Requirement already satisfied: cachetools<5.0,>=2.0.0 in /home/shane/miniconda2/envs/torch38/lib/python3.8/site-packages (from google-auth<2,>=1.6.3->tensorboard) (4.1.0)\n",
      "Requirement already satisfied: requests-oauthlib>=0.7.0 in /home/shane/miniconda2/envs/torch38/lib/python3.8/site-packages (from google-auth-oauthlib<0.5,>=0.4.1->tensorboard) (1.3.0)\n",
      "Requirement already satisfied: pyasn1<0.5.0,>=0.4.6 in /home/shane/miniconda2/envs/torch38/lib/python3.8/site-packages (from pyasn1-modules>=0.2.1->google-auth<2,>=1.6.3->tensorboard) (0.4.8)\n",
      "Requirement already satisfied: oauthlib>=3.0.0 in /home/shane/miniconda2/envs/torch38/lib/python3.8/site-packages (from requests-oauthlib>=0.7.0->google-auth-oauthlib<0.5,>=0.4.1->tensorboard) (3.1.0)\n",
      "Note: you may need to restart the kernel to use updated packages.\n"
     ]
    }
   ],
   "source": [
    "pip install tqdm numpy matplotlib torch tensorboard tensorboardx"
   ]
  },
  {
   "cell_type": "markdown",
   "metadata": {},
   "source": [
    "# Traveling salesman\n",
    "\n",
    "The pyqubo interface isn't the most user friendly when complicated calculations are\n",
    "needed. The numpy interface is preferred where linear algebra can be done easily and\n",
    "succinctly. Let's try to implement the simulated annealing process for the traveling\n",
    "salesman in pytorch."
   ]
  },
  {
   "cell_type": "code",
   "execution_count": 1,
   "metadata": {},
   "outputs": [],
   "source": [
    "from tqdm.auto import tqdm\n",
    "import numpy as np\n",
    "import matplotlib.pyplot as plt\n",
    "\n",
    "import torch\n",
    "from torch import nn\n",
    "from torch.optim.lr_scheduler import StepLR\n",
    "from torch.utils.tensorboard import SummaryWriter\n",
    "\n",
    "from sa import BitSampler, SimulatedAnnealing\n",
    "from utils import plot_graph"
   ]
  },
  {
   "cell_type": "code",
   "execution_count": 2,
   "metadata": {},
   "outputs": [],
   "source": [
    "%load_ext tensorboard"
   ]
  },
  {
   "cell_type": "markdown",
   "metadata": {},
   "source": [
    "We won't be using gradients at all. To avoid keeping track of operations we'll drop\n",
    "all gradients"
   ]
  },
  {
   "cell_type": "code",
   "execution_count": 3,
   "metadata": {},
   "outputs": [
    {
     "data": {
      "text/plain": [
       "<torch.autograd.grad_mode.no_grad at 0x7fbde029b160>"
      ]
     },
     "execution_count": 3,
     "metadata": {},
     "output_type": "execute_result"
    }
   ],
   "source": [
    "torch.no_grad()"
   ]
  },
  {
   "cell_type": "markdown",
   "metadata": {},
   "source": [
    "# Graph\n",
    "\n",
    "Define the graph and the vertices. The number of vertices is equal to the number of binary variables we need to initialise in the array."
   ]
  },
  {
   "cell_type": "code",
   "execution_count": 4,
   "metadata": {},
   "outputs": [
    {
     "data": {
      "text/plain": [
       "(<Figure size 600x600 with 1 Axes>,\n",
       " <matplotlib.axes._subplots.AxesSubplot at 0x7fbd968ad130>)"
      ]
     },
     "execution_count": 4,
     "metadata": {},
     "output_type": "execute_result"
    },
    {
     "data": {
      "image/png": "[encoded data removed]",
      "text/plain": [
       "<Figure size 600x600 with 1 Axes>"
      ]
     },
     "metadata": {
      "needs_background": "light"
     },
     "output_type": "display_data"
    }
   ],
   "source": [
    "#graph = torch.randn((6, 2), dtype=torch.float)\n",
    "graph = torch.tensor([\n",
    "    [-0.8494, -0.0292],\n",
    "    [ 0.5966, -0.2025],\n",
    "    [-0.7303,  1.5206],\n",
    "    [-0.6110, -0.6992],\n",
    "    [-1.0172, -0.5384],\n",
    "    [ 0.2233, -0.0027],\n",
    "])\n",
    "plot_graph(graph.detach())"
   ]
  },
  {
   "cell_type": "code",
   "execution_count": 5,
   "metadata": {},
   "outputs": [
    {
     "data": {
      "text/plain": [
       "tensor([[-0.8494, -0.0292],\n",
       "        [ 0.5966, -0.2025],\n",
       "        [-0.7303,  1.5206],\n",
       "        [-0.6110, -0.6992],\n",
       "        [-1.0172, -0.5384],\n",
       "        [ 0.2233, -0.0027]])"
      ]
     },
     "execution_count": 5,
     "metadata": {},
     "output_type": "execute_result"
    }
   ],
   "source": [
    "graph"
   ]
  },
  {
   "cell_type": "markdown",
   "metadata": {},
   "source": [
    "## Model\n",
    "\n",
    "The `nn.Module` class which typically defines our model will define the hamiltonian\n",
    "for this problem"
   ]
  },
  {
   "cell_type": "code",
   "execution_count": 6,
   "metadata": {},
   "outputs": [],
   "source": [
    "class TSPHamiltonian(nn.Module):\n",
    "    \"\"\"Hamiltonian for the Traveling Salesman Problem (TSP)\"\"\"\n",
    "    def __init__(self, nvert, k=1.):\n",
    "        super().__init__()\n",
    "        \n",
    "        self.cycle = nn.Parameter(\n",
    "            torch.randint(0, 2, (nvert, nvert), dtype=torch.bool),\n",
    "            requires_grad=False,\n",
    "        )\n",
    "        self.k = nn.Parameter(torch.tensor(k), requires_grad=False)\n",
    "        \n",
    "    def simultaneous_constraint(self):\n",
    "        return ((self.cycle.sum(axis=1)-1)**2).sum()\n",
    "    \n",
    "    def visits_constraint(self):\n",
    "        return ((self.cycle.sum(axis=0)-1)**2).sum()\n",
    "    \n",
    "    def distance(self, x):\n",
    "        cfloat = self.cycle.type(torch.float)\n",
    "        return torch.einsum(\n",
    "            'ij, ki, kj -> ',\n",
    "            torch.cdist(x, x), cfloat[:-1,:],\n",
    "            torch.roll(cfloat, -1, dims=0)[:-1,:],\n",
    "        )\n",
    "        \n",
    "    def forward(self, x):\n",
    "        return (\n",
    "            self.distance(x) + self.k*(\n",
    "                self.simultaneous_constraint()\n",
    "                + self.visits_constraint()\n",
    "            )\n",
    "        )"
   ]
  },
  {
   "cell_type": "markdown",
   "metadata": {},
   "source": [
    "A sampler class will randomly generate a bit flip in `self.cycle`. An optimizer will\n",
    "take care of the simulated annealing with the learning rate representing the\n",
    "temperature which decays by a scheduler.\n",
    "\n",
    "PyQUBO by default runs 1000 steps at the same lr, with a linearly decreasing log(lr)\n",
    "between 1 and 1/50 in 10 intervals. This is equivalent to a scheduler with 1000 steps\n",
    "and a gamma factor of $(1/50)^{1/9}$. This will require a total of 10k steps."
   ]
  },
  {
   "cell_type": "code",
   "execution_count": 8,
   "metadata": {},
   "outputs": [
    {
     "data": {
      "text/plain": [
       "0.6474788028695254"
      ]
     },
     "execution_count": 8,
     "metadata": {},
     "output_type": "execute_result"
    }
   ],
   "source": [
    "(1/50)**(1/9)"
   ]
  },
  {
   "cell_type": "code",
   "execution_count": 9,
   "metadata": {},
   "outputs": [],
   "source": [
    "model = TSPHamiltonian(graph.shape[0], k=4.)"
   ]
  },
  {
   "cell_type": "code",
   "execution_count": 10,
   "metadata": {},
   "outputs": [],
   "source": [
    "sampler = BitSampler()\n",
    "optimizer = SimulatedAnnealing((model.cycle,), sampler=sampler, lr=1.)\n",
    "scheduler = StepLR(optimizer, 1000, gamma=0.65)"
   ]
  },
  {
   "cell_type": "code",
   "execution_count": 11,
   "metadata": {},
   "outputs": [],
   "source": [
    "!rm -rf runs"
   ]
  },
  {
   "cell_type": "code",
   "execution_count": 12,
   "metadata": {},
   "outputs": [
    {
     "data": {
      "application/vnd.jupyter.widget-view+json": {
       "model_id": "64ec4086d19c4d0bac80286d97b0b4a6",
       "version_major": 2,
       "version_minor": 0
      },
      "text/plain": [
       "HBox(children=(FloatProgress(value=0.0, max=10000.0), HTML(value='')))"
      ]
     },
     "metadata": {},
     "output_type": "display_data"
    },
    {
     "name": "stdout",
     "output_type": "stream",
     "text": [
      "\n"
     ]
    }
   ],
   "source": [
    "writer = SummaryWriter()\n",
    "\n",
    "for epoch in tqdm(range(10000)):\n",
    "    loss = optimizer.step(lambda: model(graph))\n",
    "    scheduler.step()\n",
    "    writer.add_scalar('loss', loss.item(), epoch)\n",
    "    writer.add_scalar('lr', optimizer.param_groups[0]['lr'], epoch)\n",
    "    \n",
    "writer.flush()"
   ]
  },
  {
   "cell_type": "code",
   "execution_count": 13,
   "metadata": {},
   "outputs": [
    {
     "data": {
      "text/plain": [
       "Reusing TensorBoard on port 6007 (pid 46439), started 14:37:09 ago. (Use '!kill 46439' to kill it.)"
      ]
     },
     "metadata": {},
     "output_type": "display_data"
    },
    {
     "data": {
      "text/html": [
       "\n",
       "      <iframe id=\"tensorboard-frame-4d9c3ff11ecce902\" width=\"100%\" height=\"800\" frameborder=\"0\">\n",
       "      </iframe>\n",
       "      <script>\n",
       "        (function() {\n",
       "          const frame = document.getElementById(\"tensorboard-frame-4d9c3ff11ecce902\");\n",
       "          const url = new URL(\"/\", window.location);\n",
       "          url.port = 6007;\n",
       "          frame.src = url;\n",
       "        })();\n",
       "      </script>\n",
       "  "
      ],
      "text/plain": [
       "<IPython.core.display.HTML object>"
      ]
     },
     "metadata": {},
     "output_type": "display_data"
    }
   ],
   "source": [
    "%tensorboard --logdir runs/"
   ]
  },
  {
   "cell_type": "code",
   "execution_count": 14,
   "metadata": {},
   "outputs": [
    {
     "name": "stdout",
     "output_type": "stream",
     "text": [
      "Number of broken constraints: 0\n",
      "Energy: 6.525\n"
     ]
    }
   ],
   "source": [
    "nbroken = (\n",
    "    torch.tensor(model.cycle.shape).sum()\n",
    "    - (\n",
    "        (model.cycle.sum(axis=0)==1).sum()\n",
    "        + (model.cycle.sum(axis=1)==1).sum()\n",
    "    )\n",
    ")\n",
    "print(f'Number of broken constraints: {nbroken.item()}')\n",
    "print(f'Energy: {model(graph):.3f}')"
   ]
  },
  {
   "cell_type": "code",
   "execution_count": 15,
   "metadata": {},
   "outputs": [
    {
     "data": {
      "text/plain": [
       "(<Figure size 600x600 with 1 Axes>,\n",
       " <matplotlib.axes._subplots.AxesSubplot at 0x7fbd96821370>)"
      ]
     },
     "execution_count": 15,
     "metadata": {},
     "output_type": "execute_result"
    },
    {
     "data": {
      "image/png": "[encoded data removed]",
      "text/plain": [
       "<Figure size 600x600 with 1 Axes>"
      ]
     },
     "metadata": {
      "needs_background": "light"
     },
     "output_type": "display_data"
    }
   ],
   "source": [
    "edges = np.where(model.cycle.data)[1]\n",
    "plot_graph(graph, edges=edges)"
   ]
  },
  {
   "cell_type": "markdown",
   "metadata": {},
   "source": [
    "Doesn't quite work exactly how pyqubo does, but it's a nice proof of principle."
   ]
  }
 ],
 "metadata": {
  "kernelspec": {
   "display_name": "Python 3",
   "language": "python",
   "name": "python3"
  },
  "language_info": {
   "codemirror_mode": {
    "name": "ipython",
    "version": 3
   },
   "file_extension": ".py",
   "mimetype": "text/x-python",
   "name": "python",
   "nbconvert_exporter": "python",
   "pygments_lexer": "ipython3",
   "version": "3.8.2"
  }
 },
 "nbformat": 4,
 "nbformat_minor": 4
}
